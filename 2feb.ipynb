{
 "cells": [
  {
   "cell_type": "markdown",
   "id": "f8ca303c",
   "metadata": {},
   "source": [
    "Explain with an example each when to use a for loop and a while loop. \n"
   ]
  },
  {
   "cell_type": "markdown",
   "id": "8189d8a8",
   "metadata": {},
   "source": [
    "A for loop is a control flow statement that executes code repeatedly for a particular number of iterations. In this control flow statement, the keyword used is for. The for loop is used when the number of iterations is already known.\n"
   ]
  },
  {
   "cell_type": "code",
   "execution_count": 1,
   "id": "1015b41b",
   "metadata": {},
   "outputs": [
    {
     "name": "stdout",
     "output_type": "stream",
     "text": [
      "1\n",
      "2\n",
      "3\n"
     ]
    }
   ],
   "source": [
    "#example:-\n",
    "n = [1, 2, 3]  \n",
    "for i in n:  \n",
    "    print(i)"
   ]
  },
  {
   "cell_type": "markdown",
   "id": "1929a7d9",
   "metadata": {},
   "source": [
    "A loop that executes a single statement or a group of statements for the given true condition. A \"while\" loop is used when the number of iterations is unknown. The statement repeats itself till the boolean value becomes false. In a while loop, the condition is tested at the start, also known as the pre-test loop. Let's see the flow of the while loop."
   ]
  },
  {
   "cell_type": "code",
   "execution_count": 2,
   "id": "ca9ded3a",
   "metadata": {},
   "outputs": [
    {
     "name": "stdout",
     "output_type": "stream",
     "text": [
      "1\n",
      "2\n",
      "3\n",
      "4\n",
      "5\n"
     ]
    }
   ],
   "source": [
    "#example\n",
    "i = 1  \n",
    "while i < 6:  \n",
    "    print(i)\n",
    "    i += 1 "
   ]
  },
  {
   "cell_type": "markdown",
   "id": "d2c6848e",
   "metadata": {},
   "source": [
    "Q2.  Write a python program to print the sum and product of the first 10 natural numbers using for  and while loop. \n"
   ]
  },
  {
   "cell_type": "code",
   "execution_count": 3,
   "id": "544c16fd",
   "metadata": {},
   "outputs": [
    {
     "name": "stdout",
     "output_type": "stream",
     "text": [
      "sum of 10 natural number is = 55\n",
      "product of 10 natural number is = 3628800\n"
     ]
    }
   ],
   "source": [
    "i=1\n",
    "sum=0\n",
    "product = 1\n",
    "while i<=10:\n",
    "    sum=sum+i\n",
    "    product= product*i\n",
    "    i=i+1\n",
    "print(\"sum of 10 natural number is =\",sum)\n",
    "print(\"product of 10 natural number is =\",product)\n"
   ]
  },
  {
   "cell_type": "markdown",
   "id": "f192104f",
   "metadata": {},
   "source": [
    "Q3. Create a python program to compute the electricity bill for a household. \n",
    "The per-unit charges in rupees are as follows: For the first 100 units, the user will be charged Rs. 4.5 per  unit, for the next 100 units, the user will be charged Rs. 6 per unit, and for the next 100 units, the user will  be charged Rs. 10 per unit, After 300 units and above the user will be charged Rs. 20 per unit. \n"
   ]
  },
  {
   "cell_type": "code",
   "execution_count": 3,
   "id": "18839170",
   "metadata": {},
   "outputs": [
    {
     "name": "stdout",
     "output_type": "stream",
     "text": [
      "Enter the number of units comsumed:  310\n",
      "2250.0\n"
     ]
    }
   ],
   "source": [
    "total_bill=0;\n",
    "units=int(input(\"Enter the number of units comsumed:  \"));\n",
    "i=1;\n",
    "while i<=units:\n",
    "    if i<=100:\n",
    "        total_bill+=4.5;\n",
    "    elif i>100 and i<=200:\n",
    "        total_bill+=6;\n",
    "    elif i>200 and i<=300:\n",
    "        total_bill+=10;\n",
    "    else:\n",
    "        total_bill+=20;\n",
    "    i+=1;\n",
    "print(total_bill)"
   ]
  },
  {
   "cell_type": "markdown",
   "id": "dfd26c6f",
   "metadata": {},
   "source": [
    "Q4. Create a list of numbers from 1 to 100. Use for loop and while loop to calculate the cube of each  number and if the cube of that number is divisible by 4 or 5 then append that number in a list and print  that list. "
   ]
  },
  {
   "cell_type": "code",
   "execution_count": 5,
   "id": "458d1fb7",
   "metadata": {},
   "outputs": [
    {
     "name": "stdout",
     "output_type": "stream",
     "text": [
      "Cubes of numbers divisible by 4 or 5 (using while loop):  [8, 64, 125, 216, 512, 1000, 1728, 2744, 3375, 4096, 5832, 8000, 10648, 13824, 15625, 17576, 21952, 27000, 32768, 39304, 42875, 46656, 54872, 64000, 74088, 85184, 91125, 97336, 110592, 125000, 140608, 157464, 166375, 175616, 195112, 216000, 238328, 262144, 274625, 287496, 314432, 343000, 373248, 405224, 421875, 438976, 474552, 512000, 551368, 592704, 614125, 636056, 681472, 729000, 778688, 830584, 857375, 884736, 941192, 1000000]\n"
     ]
    }
   ],
   "source": [
    "numbers = [i for i in range(1, 101)]\n",
    "cubes_divisible_by_4or5 = []\n",
    "index = 0\n",
    "while index < len(numbers):\n",
    "    cube = numbers[index]**3\n",
    "    if cube % 4 == 0 or cube % 5 == 0:\n",
    "        cubes_divisible_by_4or5.append(cube)\n",
    "    index += 1\n",
    "\n",
    "print(\"Cubes of numbers divisible by 4 or 5 (using while loop): \", cubes_divisible_by_4or5)"
   ]
  },
  {
   "cell_type": "markdown",
   "id": "f62ac126",
   "metadata": {},
   "source": [
    "Write a program to filter count vowels in the below-given string. \n",
    "string = \"I want to become a data scientist\" \n",
    "\n"
   ]
  },
  {
   "cell_type": "code",
   "execution_count": 5,
   "id": "28765a9c",
   "metadata": {},
   "outputs": [
    {
     "name": "stdout",
     "output_type": "stream",
     "text": [
      "Enter the string :i want to become a data scientist\n",
      "Total vowels are :12\n"
     ]
    }
   ],
   "source": [
    "\n",
    "String = input('Enter the string :')\n",
    "count = 0\n",
    "\n",
    "String = String.lower()\n",
    "for i in String:\n",
    "    if i == 'a' or i == 'e' or i == 'i' or i == 'o' or i == 'u':\n",
    "        #if True\n",
    "        count+=1\n",
    "if count == 0:\n",
    "    print('No vowels found')\n",
    "else:\n",
    "    print('Total vowels are :' + str(count))"
   ]
  },
  {
   "cell_type": "code",
   "execution_count": null,
   "id": "3259b3ca",
   "metadata": {},
   "outputs": [],
   "source": []
  },
  {
   "cell_type": "code",
   "execution_count": null,
   "id": "62d81ebf",
   "metadata": {},
   "outputs": [],
   "source": []
  }
 ],
 "metadata": {
  "kernelspec": {
   "display_name": "Python 3 (ipykernel)",
   "language": "python",
   "name": "python3"
  },
  "language_info": {
   "codemirror_mode": {
    "name": "ipython",
    "version": 3
   },
   "file_extension": ".py",
   "mimetype": "text/x-python",
   "name": "python",
   "nbconvert_exporter": "python",
   "pygments_lexer": "ipython3",
   "version": "3.9.13"
  }
 },
 "nbformat": 4,
 "nbformat_minor": 5
}
